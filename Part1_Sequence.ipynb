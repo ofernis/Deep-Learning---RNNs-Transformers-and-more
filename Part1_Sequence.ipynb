{
 "cells": [
  {
   "attachments": {},
   "cell_type": "markdown",
   "metadata": {},
   "source": [
    "$$\n",
    "\\newcommand{\\mat}[1]{\\boldsymbol {#1}}\n",
    "\\newcommand{\\mattr}[1]{\\boldsymbol {#1}^\\top}\n",
    "\\newcommand{\\matinv}[1]{\\boldsymbol {#1}^{-1}}\n",
    "\\renewcommand{\\vec}[1]{\\boldsymbol {#1}}\n",
    "\\newcommand{\\vectr}[1]{\\boldsymbol {#1}^\\top}\n",
    "\\newcommand{\\rvar}[1]{\\mathrm {#1}}\n",
    "\\newcommand{\\rvec}[1]{\\boldsymbol{\\mathrm{#1}}}\n",
    "\\newcommand{\\diag}{\\mathop{\\mathrm {diag}}}\n",
    "\\renewcommand{\\set}[1]{\\mathbb {#1}}\n",
    "\\newcommand{\\norm}[1]{\\left\\lVert#1\\right\\rVert}\n",
    "\\newcommand{\\pderiv}[2]{\\frac{\\partial #1}{\\partial #2}}\n",
    "\\newcommand{\\bb}[1]{\\boldsymbol{#1}}\n",
    "$$"
   ]
  },
  {
   "attachments": {},
   "cell_type": "markdown",
   "metadata": {},
   "source": [
    "# Part 1: Sequence Models\n",
    "<a id=part1></a>"
   ]
  },
  {
   "attachments": {},
   "cell_type": "markdown",
   "metadata": {},
   "source": [
    "In this part we will learn about working with text sequences using recurrent neural networks.\n",
    "We'll go from a raw text file all the way to a fully trained GRU-RNN model and generate works of art!"
   ]
  },
  {
   "cell_type": "code",
   "execution_count": 1,
   "metadata": {},
   "outputs": [],
   "source": [
    "import unittest\n",
    "import os\n",
    "import sys\n",
    "import pathlib\n",
    "import urllib\n",
    "import shutil\n",
    "import re\n",
    "\n",
    "import numpy as np\n",
    "import torch\n",
    "import matplotlib.pyplot as plt\n",
    "\n",
    "%load_ext autoreload\n",
    "%autoreload 2"
   ]
  },
  {
   "cell_type": "code",
   "execution_count": 2,
   "metadata": {},
   "outputs": [
    {
     "name": "stdout",
     "output_type": "stream",
     "text": [
      "Using device: cuda\n"
     ]
    }
   ],
   "source": [
    "test = unittest.TestCase()\n",
    "plt.rcParams.update({'font.size': 12})\n",
    "device = torch.device('cuda' if torch.cuda.is_available() else 'cpu')\n",
    "print('Using device:', device)"
   ]
  },
  {
   "attachments": {},
   "cell_type": "markdown",
   "metadata": {},
   "source": [
    "## Text generation with a char-level RNN\n",
    "<a id=part1_1></a>"
   ]
  },
  {
   "attachments": {},
   "cell_type": "markdown",
   "metadata": {},
   "source": [
    "### Obtaining the corpus\n",
    "<a id=part1_2></a>"
   ]
  },
  {
   "attachments": {},
   "cell_type": "markdown",
   "metadata": {},
   "source": [
    "Let's begin by downloading a corpus containing all the works of William Shakespeare.\n",
    "Since he was very prolific, this corpus is fairly large and will provide us with enough data for\n",
    "obtaining impressive results."
   ]
  },
  {
   "cell_type": "code",
   "execution_count": 3,
   "metadata": {},
   "outputs": [
    {
     "name": "stdout",
     "output_type": "stream",
     "text": [
      "Corpus file /home/lotan.amit/.pytorch-datasets/shakespeare.txt exists, skipping download.\n"
     ]
    }
   ],
   "source": [
    "CORPUS_URL = 'https://github.com/cedricdeboom/character-level-rnn-datasets/raw/master/datasets/shakespeare.txt'\n",
    "DATA_DIR = pathlib.Path.home().joinpath('.pytorch-datasets')\n",
    "\n",
    "def download_corpus(out_path=DATA_DIR, url=CORPUS_URL, force=False):\n",
    "    pathlib.Path(out_path).mkdir(exist_ok=True)\n",
    "    out_filename = os.path.join(out_path, os.path.basename(url))\n",
    "    \n",
    "    if os.path.isfile(out_filename) and not force:\n",
    "        print(f'Corpus file {out_filename} exists, skipping download.')\n",
    "    else:\n",
    "        print(f'Downloading {url}...')\n",
    "        with urllib.request.urlopen(url) as response, open(out_filename, 'wb') as out_file:\n",
    "            shutil.copyfileobj(response, out_file)\n",
    "        print(f'Saved to {out_filename}.')\n",
    "    return out_filename\n",
    "    \n",
    "corpus_path = download_corpus()"
   ]
  },
  {
   "attachments": {},
   "cell_type": "markdown",
   "metadata": {},
   "source": [
    "Load the text into memory and print a snippet:"
   ]
  },
  {
   "cell_type": "code",
   "execution_count": 4,
   "metadata": {},
   "outputs": [
    {
     "name": "stdout",
     "output_type": "stream",
     "text": [
      "Corpus length: 6347703 chars\n",
      "ALLS WELL THAT ENDS WELL\n",
      "\n",
      "by William Shakespeare\n",
      "\n",
      "Dramatis Personae\n",
      "\n",
      "  KING OF FRANCE\n",
      "  THE DUKE OF FLORENCE\n",
      "  BERTRAM, Count of Rousillon\n",
      "  LAFEU, an old lord\n",
      "  PAROLLES, a follower of Bertram\n",
      "  TWO FRENCH LORDS, serving with Bertram\n",
      "\n",
      "  STEWARD, Servant to the Countess of Rousillon\n",
      "  LAVACHE, a clown and Servant to the Countess of Rousillon\n",
      "  A PAGE, Servant to the Countess of Rousillon\n",
      "\n",
      "  COUNTESS OF ROUSILLON, mother to Bertram\n",
      "  HELENA, a gentlewoman protected by the Countess\n",
      "  A WIDOW OF FLORENCE.\n",
      "  DIANA, daughter to the Widow\n",
      "\n",
      "  VIOLENTA, neighbour and friend to the Widow\n",
      "  MARIANA, neighbour and friend to the Widow\n",
      "\n",
      "  Lords, Officers, Soldiers, etc., French and Florentine  \n",
      "\n",
      "SCENE:\n",
      "Rousillon; Paris; Florence; Marseilles\n",
      "\n",
      "ACT I. SCENE 1.\n",
      "Rousillon. The COUNT'S palace\n",
      "\n",
      "Enter BERTRAM, the COUNTESS OF ROUSILLON, HELENA, and LAFEU, all in black\n",
      "\n",
      "  COUNTESS. In delivering my son from me, I bury a second husband.\n",
      "  BERTRAM. And I in going, madam, weep o'er my father's death anew;\n",
      "    but I must attend his Majesty's command, to whom I am now in\n",
      "    ward, evermore in subjection.\n",
      "  LAFEU. You shall find of the King a husband, madam; you, sir, a\n",
      "    father. He that so generally is at all times good must of\n",
      "    \n"
     ]
    }
   ],
   "source": [
    "with open(corpus_path, 'r', encoding='utf-8') as f:\n",
    "    corpus = f.read()\n",
    "\n",
    "print(f'Corpus length: {len(corpus)} chars')\n",
    "print(corpus[7:1234])"
   ]
  },
  {
   "attachments": {},
   "cell_type": "markdown",
   "metadata": {},
   "source": [
    "### Data Preprocessing\n",
    "<a id=part1_3></a>"
   ]
  },
  {
   "attachments": {},
   "cell_type": "markdown",
   "metadata": {},
   "source": [
    "The first thing we'll need is to map from each unique character in the corpus to an index that will represent it in our learning process.\n",
    "\n",
    "**TODO**: Implement the `char_maps()` function in the `hw3/charnn.py` module."
   ]
  },
  {
   "cell_type": "code",
   "execution_count": 5,
   "metadata": {},
   "outputs": [
    {
     "name": "stdout",
     "output_type": "stream",
     "text": [
      "{'\\n': 0, ' ': 1, '!': 2, '\"': 3, '$': 4, '&': 5, \"'\": 6, '(': 7, ')': 8, ',': 9, '-': 10, '.': 11, '0': 12, '1': 13, '2': 14, '3': 15, '4': 16, '5': 17, '6': 18, '7': 19, '8': 20, '9': 21, ':': 22, ';': 23, '<': 24, '?': 25, 'A': 26, 'B': 27, 'C': 28, 'D': 29, 'E': 30, 'F': 31, 'G': 32, 'H': 33, 'I': 34, 'J': 35, 'K': 36, 'L': 37, 'M': 38, 'N': 39, 'O': 40, 'P': 41, 'Q': 42, 'R': 43, 'S': 44, 'T': 45, 'U': 46, 'V': 47, 'W': 48, 'X': 49, 'Y': 50, 'Z': 51, '[': 52, ']': 53, '_': 54, 'a': 55, 'b': 56, 'c': 57, 'd': 58, 'e': 59, 'f': 60, 'g': 61, 'h': 62, 'i': 63, 'j': 64, 'k': 65, 'l': 66, 'm': 67, 'n': 68, 'o': 69, 'p': 70, 'q': 71, 'r': 72, 's': 73, 't': 74, 'u': 75, 'v': 76, 'w': 77, 'x': 78, 'y': 79, 'z': 80, '}': 81, '\\ufeff': 82}\n"
     ]
    }
   ],
   "source": [
    "import hw3.charnn as charnn\n",
    "\n",
    "char_to_idx, idx_to_char = charnn.char_maps(corpus)\n",
    "print(char_to_idx)\n",
    "\n",
    "test.assertEqual(len(char_to_idx), len(idx_to_char))\n",
    "test.assertSequenceEqual(list(char_to_idx.keys()), list(idx_to_char.values()))\n",
    "test.assertSequenceEqual(list(char_to_idx.values()), list(idx_to_char.keys()))"
   ]
  },
  {
   "attachments": {},
   "cell_type": "markdown",
   "metadata": {},
   "source": [
    "Seems we have some strange characters in the corpus that are very rare and are probably due to mistakes.\n",
    "To reduce the length of each tensor we'll need to later represent our chars, it's best to remove them.\n",
    "\n",
    "**TODO**: Implement the `remove_chars()` function in the `hw3/charnn.py` module."
   ]
  },
  {
   "cell_type": "code",
   "execution_count": 6,
   "metadata": {},
   "outputs": [
    {
     "name": "stdout",
     "output_type": "stream",
     "text": [
      "Removed 34 chars\n"
     ]
    }
   ],
   "source": [
    "corpus, n_removed = charnn.remove_chars(corpus, ['}','$','_','<','\\ufeff'])\n",
    "print(f'Removed {n_removed} chars')\n",
    "\n",
    "# After removing the chars, re-create the mappings\n",
    "char_to_idx, idx_to_char = charnn.char_maps(corpus)"
   ]
  },
  {
   "attachments": {},
   "cell_type": "markdown",
   "metadata": {},
   "source": [
    "The next thing we need is an **embedding** of the chracters.\n",
    "An embedding is a representation of each token from the sequence as a tensor.\n",
    "For a char-level RNN, our tokens will be chars and we can thus use the simplest possible embedding: encode each char as a **one-hot** tensor. In other words, each char will be represented\n",
    "as a tensor whos length is the total number of unique chars (`V`) which contains all zeros except at the index\n",
    "corresponding to that specific char.\n",
    "\n",
    "**TODO**: Implement the functions `chars_to_onehot()` and `onehot_to_chars()` in the `hw3/charnn.py` module."
   ]
  },
  {
   "cell_type": "code",
   "execution_count": 7,
   "metadata": {},
   "outputs": [
    {
     "name": "stdout",
     "output_type": "stream",
     "text": [
      "brine a maiden can season her praise in.\n",
      "   \n",
      "tensor([[0, 0, 0, 0, 0, 0, 0, 0, 0, 0, 0, 0, 0, 0, 0, 0, 0, 0, 0, 0, 0, 0, 0, 0,\n",
      "         0, 0, 0, 0, 0, 0, 0, 0, 0, 0, 0, 0, 0, 0, 0, 0, 0, 0, 0, 0, 0, 0, 0, 0,\n",
      "         0, 0, 0, 0, 0, 1, 0, 0, 0, 0, 0, 0, 0, 0, 0, 0, 0, 0, 0, 0, 0, 0, 0, 0,\n",
      "         0, 0, 0, 0, 0, 0],\n",
      "        [0, 0, 0, 0, 0, 0, 0, 0, 0, 0, 0, 0, 0, 0, 0, 0, 0, 0, 0, 0, 0, 0, 0, 0,\n",
      "         0, 0, 0, 0, 0, 0, 0, 0, 0, 0, 0, 0, 0, 0, 0, 0, 0, 0, 0, 0, 0, 0, 0, 0,\n",
      "         0, 0, 0, 0, 0, 0, 0, 0, 0, 0, 0, 0, 0, 0, 0, 0, 0, 0, 0, 0, 0, 1, 0, 0,\n",
      "         0, 0, 0, 0, 0, 0],\n",
      "        [0, 0, 0, 0, 0, 0, 0, 0, 0, 0, 0, 0, 0, 0, 0, 0, 0, 0, 0, 0, 0, 0, 0, 0,\n",
      "         0, 0, 0, 0, 0, 0, 0, 0, 0, 0, 0, 0, 0, 0, 0, 0, 0, 0, 0, 0, 0, 0, 0, 0,\n",
      "         0, 0, 0, 0, 0, 0, 0, 0, 0, 0, 0, 0, 1, 0, 0, 0, 0, 0, 0, 0, 0, 0, 0, 0,\n",
      "         0, 0, 0, 0, 0, 0]], dtype=torch.int8)\n"
     ]
    }
   ],
   "source": [
    "# Wrap the actual embedding functions for calling convenience\n",
    "def embed(text):\n",
    "    return charnn.chars_to_onehot(text, char_to_idx)\n",
    "\n",
    "def unembed(embedding):\n",
    "    return charnn.onehot_to_chars(embedding, idx_to_char)\n",
    "\n",
    "text_snippet = corpus[3104:3148]\n",
    "print(text_snippet)\n",
    "print(embed(text_snippet[0:3]))\n",
    "\n",
    "test.assertEqual(text_snippet, unembed(embed(text_snippet)))\n",
    "test.assertEqual(embed(text_snippet).dtype, torch.int8)"
   ]
  },
  {
   "attachments": {},
   "cell_type": "markdown",
   "metadata": {},
   "source": [
    "### Dataset Creation\n",
    "<a id=part1_4></a>"
   ]
  },
  {
   "attachments": {},
   "cell_type": "markdown",
   "metadata": {},
   "source": [
    "We wish to train our model to generate text by constantly predicting what the next char should be based on the past.\n",
    "To that end we'll need to train our recurrent network in a way similar to a classification task. At each timestep, we input a char and set the expected output (label) to be the next char in the original sequence.\n",
    "\n",
    "We will split our corpus into shorter sequences of length `S` chars (see question below).\n",
    "Each **sample** we provide our model with will therefore be a tensor of shape `(S,V)` where `V` is the embedding dimension. Our model will operate sequentially on each char in the sequence.\n",
    "For each sample, we'll also need a **label**. This is simply another sequence, shifted by one char so that the label of each char is the next char in the corpus."
   ]
  },
  {
   "attachments": {},
   "cell_type": "markdown",
   "metadata": {},
   "source": [
    "**TODO**: Implement the `chars_to_labelled_samples()` function in the `hw3/charnn.py` module."
   ]
  },
  {
   "cell_type": "code",
   "execution_count": 8,
   "metadata": {},
   "outputs": [
    {
     "name": "stdout",
     "output_type": "stream",
     "text": [
      "samples shape: torch.Size([99182, 64, 78])\n",
      "labels shape: torch.Size([99182, 64])\n"
     ]
    }
   ],
   "source": [
    "# Create dataset of sequences\n",
    "seq_len = 64\n",
    "vocab_len = len(char_to_idx)\n",
    "\n",
    "# Create labelled samples\n",
    "samples, labels = charnn.chars_to_labelled_samples(corpus, char_to_idx, seq_len, device)\n",
    "print(f'samples shape: {samples.shape}')\n",
    "print(f'labels shape: {labels.shape}')\n",
    "\n",
    "# Test shapes\n",
    "num_samples = (len(corpus) - 1) // seq_len\n",
    "test.assertEqual(samples.shape, (num_samples, seq_len, vocab_len))\n",
    "test.assertEqual(labels.shape, (num_samples, seq_len))\n",
    "\n",
    "# Test content\n",
    "for _ in range(1000):\n",
    "    # random sample\n",
    "    i = np.random.randint(num_samples, size=(1,))[0]\n",
    "    # Compare to corpus\n",
    "    test.assertEqual(unembed(samples[i]), corpus[i*seq_len:(i+1)*seq_len], msg=f\"content mismatch in sample {i}\")\n",
    "    # Compare to labels\n",
    "    sample_text = unembed(samples[i])\n",
    "    label_text = str.join('', [idx_to_char[j.item()] for j in labels[i]])\n",
    "    test.assertEqual(sample_text[1:], label_text[0:-1], msg=f\"label mismatch in sample {i}\")"
   ]
  },
  {
   "attachments": {},
   "cell_type": "markdown",
   "metadata": {},
   "source": [
    "Let's print a few consecutive samples. You should see that the text continues between them."
   ]
  },
  {
   "cell_type": "code",
   "execution_count": 9,
   "metadata": {},
   "outputs": [
    {
     "name": "stdout",
     "output_type": "stream",
     "text": [
      "sample [26602]:\n",
      "\tTo save your subjects from such massacre And ruthless sla\n",
      "sample [26603]:\n",
      "\tughters as are daily seen By our proceeding in hostility;\n",
      "sample [26604]:\n",
      "\tAnd therefore take this compact of a truce, Although you b\n",
      "sample [26605]:\n",
      "\treak it when your pleasure serves. WARWICK. How say'st thou, C\n",
      "sample [26606]:\n",
      "\tharles? Shall our condition stand? CHARLES. It shall;\n"
     ]
    }
   ],
   "source": [
    "import re\n",
    "import random\n",
    "\n",
    "i = random.randrange(num_samples-5)\n",
    "for i in range(i, i+5):\n",
    "    test.assertEqual(len(samples[i]), seq_len)\n",
    "    s = re.sub(r'\\s+', ' ', unembed(samples[i])).strip()\n",
    "    print(f'sample [{i}]:\\n\\t{s}')"
   ]
  },
  {
   "attachments": {},
   "cell_type": "markdown",
   "metadata": {},
   "source": [
    "As usual, instead of feeding one sample at a time into our model's forward we'll work with **batches** of samples. This means that at every timestep, our model will operate on a batch of chars that are from **different sequences**.\n",
    "Effectively this will allow us to parallelize training our model by dong matrix-matrix multiplications\n",
    "instead of matrix-vector during the forward pass."
   ]
  },
  {
   "attachments": {},
   "cell_type": "markdown",
   "metadata": {},
   "source": [
    "An important nuance is that we need the batches to be **contiguous**, i.e. sample $k$ in batch $j$ should continue sample $k$ from batch $j-1$.\n",
    "The following figure illustrates this:\n",
    "\n",
    "<img src=\"imgs/rnn-batching.png\"/>\n",
    "\n",
    "If we naïvely take consecutive samples into batches, e.g. `[0,1,...,B-1]`, `[B,B+1,...,2B-1]` and so on, we won't have contiguous\n",
    "sequences at the same index between adjacent batches.\n",
    "\n",
    "To accomplish this we need to tell our `DataLoader` which samples to combine together into one batch.\n",
    "We do this by implementing a custom PyTorch `Sampler`, and providing it to our `DataLoader`."
   ]
  },
  {
   "attachments": {},
   "cell_type": "markdown",
   "metadata": {},
   "source": [
    "**TODO**: Implement the `SequenceBatchSampler` class in the `hw3/charnn.py` module."
   ]
  },
  {
   "cell_type": "code",
   "execution_count": 10,
   "metadata": {},
   "outputs": [
    {
     "name": "stdout",
     "output_type": "stream",
     "text": [
      "sampler_idx =\n",
      " [0, 3, 6, 9, 12, 15, 18, 21, 24, 27, 1, 4, 7, 10, 13, 16, 19, 22, 25, 28, 2, 5, 8, 11, 14, 17, 20, 23, 26, 29]\n"
     ]
    }
   ],
   "source": [
    "from hw3.charnn import SequenceBatchSampler\n",
    "\n",
    "sampler = SequenceBatchSampler(dataset=range(32), batch_size=10)\n",
    "sampler_idx = list(sampler)\n",
    "print('sampler_idx =\\n', sampler_idx)\n",
    "\n",
    "# Test the Sampler\n",
    "test.assertEqual(len(sampler_idx), 30)\n",
    "batch_idx = np.array(sampler_idx).reshape(-1, 10)\n",
    "for k in range(10):\n",
    "    test.assertEqual(np.diff(batch_idx[:, k], n=2).item(), 0)"
   ]
  },
  {
   "attachments": {},
   "cell_type": "markdown",
   "metadata": {},
   "source": [
    "Even though we're working with sequences, we can still use the standard PyTorch `Dataset`/`DataLoader` combo.\n",
    "For the dataset we can use a built-in class, `TensorDataset` to return tuples of `(sample, label)`\n",
    "from the `samples` and `labels` tensors we created above.\n",
    "The `DataLoader` will be provided with our custom `Sampler` so that it generates appropriate batches."
   ]
  },
  {
   "cell_type": "code",
   "execution_count": 11,
   "metadata": {},
   "outputs": [],
   "source": [
    "import torch.utils.data\n",
    "\n",
    "# Create DataLoader returning batches of samples.\n",
    "batch_size = 32\n",
    "\n",
    "ds_corpus = torch.utils.data.TensorDataset(samples, labels)\n",
    "sampler_corpus = SequenceBatchSampler(ds_corpus, batch_size)\n",
    "dl_corpus = torch.utils.data.DataLoader(ds_corpus, batch_size=batch_size, sampler=sampler_corpus, shuffle=False)"
   ]
  },
  {
   "attachments": {},
   "cell_type": "markdown",
   "metadata": {},
   "source": [
    "Let's see what that gives us:"
   ]
  },
  {
   "cell_type": "code",
   "execution_count": 12,
   "metadata": {},
   "outputs": [
    {
     "name": "stdout",
     "output_type": "stream",
     "text": [
      "num batches: 3100\n",
      "shape of a batch of samples: torch.Size([32, 64, 78])\n",
      "shape of a batch of labels: torch.Size([32, 64])\n"
     ]
    }
   ],
   "source": [
    "print(f'num batches: {len(dl_corpus)}')\n",
    "\n",
    "x0, y0 = next(iter(dl_corpus))\n",
    "print(f'shape of a batch of samples: {x0.shape}')\n",
    "print(f'shape of a batch of labels: {y0.shape}')"
   ]
  },
  {
   "attachments": {},
   "cell_type": "markdown",
   "metadata": {},
   "source": [
    "Now lets look at the same sample index from multiple batches taken from our corpus."
   ]
  },
  {
   "cell_type": "code",
   "execution_count": 13,
   "metadata": {},
   "outputs": [
    {
     "name": "stdout",
     "output_type": "stream",
     "text": [
      "=== batch 0, sample 15 (torch.Size([64, 78])): ===\n",
      "\td razure of oblivion. Give me your hand. And let the subject\n",
      "=== batch 1, sample 15 (torch.Size([64, 78])): ===\n",
      "\tsee, to make them know That outward courtesies would fain p\n",
      "=== batch 2, sample 15 (torch.Size([64, 78])): ===\n",
      "\troclaim Favours that keep within. Come, Escalus, You m\n",
      "=== batch 3, sample 15 (torch.Size([64, 78])): ===\n",
      "\tust walk by us on our other hand, And good supporters are yo\n",
      "=== batch 4, sample 15 (torch.Size([64, 78])): ===\n",
      "\tu. Enter FRIAR PETER and ISABELLA PETER. No\n"
     ]
    }
   ],
   "source": [
    "# Check that sentences in in same index of different batches complete each other.\n",
    "k = random.randrange(batch_size)\n",
    "for j, (X, y) in enumerate(dl_corpus,):\n",
    "    print(f'=== batch {j}, sample {k} ({X[k].shape}): ===')\n",
    "    s = re.sub(r'\\s+', ' ', unembed(X[k])).strip()\n",
    "    print(f'\\t{s}')\n",
    "    if j==4: break"
   ]
  },
  {
   "attachments": {},
   "cell_type": "markdown",
   "metadata": {},
   "source": [
    "### Model Implementation\n",
    "<a id=part1_5></a>"
   ]
  },
  {
   "attachments": {},
   "cell_type": "markdown",
   "metadata": {},
   "source": [
    "Finally, our data set is ready so we can focus on our model.\n",
    "\n",
    "We'll implement here is a multilayer gated recurrent unit (GRU) model, with dropout.\n",
    "This model is a type of RNN which performs similar to the well-known LSTM model,\n",
    "but it's somewhat easier to train because it has less parameters.\n",
    "We'll modify the regular GRU slightly by applying dropout to\n",
    "the hidden states passed between layers of the model.\n",
    "\n",
    "The model accepts an input $\\mat{X}\\in\\set{R}^{S\\times V}$ containing a sequence of embedded chars.\n",
    "It returns an output $\\mat{Y}\\in\\set{R}^{S\\times V}$ of predictions for the next char and the final hidden state\n",
    "$\\mat{H}\\in\\set{R}^{L\\times H}$. Here $S$ is the sequence length, $V$ is the vocabulary size (number of unique chars), $L$ is the number of layers in the model and $H$ is the hidden dimension."
   ]
  },
  {
   "attachments": {},
   "cell_type": "markdown",
   "metadata": {},
   "source": [
    "Mathematically, the model's forward function at layer $k\\in[1,L]$ and timestep $t\\in[1,S]$ can be described as\n",
    "\n",
    "$$\n",
    "\\begin{align}\n",
    "\\vec{z_t}^{[k]} &= \\sigma\\left(\\vec{x}^{[k]}_t {\\mattr{W}_{\\mathrm{xz}}}^{[k]} +\n",
    "    \\vec{h}_{t-1}^{[k]} {\\mattr{W}_{\\mathrm{hz}}}^{[k]} + \\vec{b}_{\\mathrm{z}}^{[k]}\\right) \\\\\n",
    "\\vec{r_t}^{[k]} &= \\sigma\\left(\\vec{x}^{[k]}_t {\\mattr{W}_{\\mathrm{xr}}}^{[k]} +\n",
    "    \\vec{h}_{t-1}^{[k]} {\\mattr{W}_{\\mathrm{hr}}}^{[k]} + \\vec{b}_{\\mathrm{r}}^{[k]}\\right) \\\\\n",
    "\\vec{g_t}^{[k]} &= \\tanh\\left(\\vec{x}^{[k]}_t {\\mattr{W}_{\\mathrm{xg}}}^{[k]} +\n",
    "    (\\vec{r_t}^{[k]}\\odot\\vec{h}_{t-1}^{[k]}) {\\mattr{W}_{\\mathrm{hg}}}^{[k]} + \\vec{b}_{\\mathrm{g}}^{[k]}\\right) \\\\\n",
    "\\vec{h_t}^{[k]} &= \\vec{z}^{[k]}_t \\odot \\vec{h}^{[k]}_{t-1} + \\left(1-\\vec{z}^{[k]}_t\\right)\\odot \\vec{g_t}^{[k]}\n",
    "\\end{align}\n",
    "$$"
   ]
  },
  {
   "attachments": {},
   "cell_type": "markdown",
   "metadata": {},
   "source": [
    "The input to each layer is,\n",
    "$$\n",
    "\\mat{X}^{[k]} =\n",
    "\\begin{bmatrix}\n",
    "    {\\vec{x}_1}^{[k]} \\\\ \\vdots \\\\ {\\vec{x}_S}^{[k]}\n",
    "\\end{bmatrix} \n",
    "=\n",
    "\\begin{cases}\n",
    "    \\mat{X} & \\mathrm{if} ~k = 1~ \\\\\n",
    "    \\mathrm{dropout}_p \\left(\n",
    "    \\begin{bmatrix}\n",
    "        {\\vec{h}_1}^{[k-1]} \\\\ \\vdots \\\\ {\\vec{h}_S}^{[k-1]}\n",
    "    \\end{bmatrix} \\right) & \\mathrm{if} ~1 < k \\leq L+1~\n",
    "\\end{cases}.\n",
    "$$"
   ]
  },
  {
   "attachments": {},
   "cell_type": "markdown",
   "metadata": {},
   "source": [
    "The output of the entire model is then,\n",
    "$$\n",
    "\\mat{Y} = \\mat{X}^{[L+1]} {\\mattr{W}_{\\mathrm{hy}}} + \\mat{B}_{\\mathrm{y}}\n",
    "$$"
   ]
  },
  {
   "attachments": {},
   "cell_type": "markdown",
   "metadata": {},
   "source": [
    "and the final hidden state is\n",
    "$$\n",
    "\\mat{H} = \n",
    "\\begin{bmatrix}\n",
    "    {\\vec{h}_S}^{[1]} \\\\ \\vdots \\\\ {\\vec{h}_S}^{[L]}\n",
    "\\end{bmatrix}.\n",
    "$$"
   ]
  },
  {
   "attachments": {},
   "cell_type": "markdown",
   "metadata": {},
   "source": [
    "Notes:\n",
    "- $t\\in[1,S]$ is the timestep, i.e. the current position within the sequence of each sample.\n",
    "- $\\vec{x}_t^{[k]}$ is the input of layer $k$ at timestep $t$, respectively.\n",
    "- The outputs of the **last layer** $\\vec{y}_t^{[L]}$, are the predicted next characters for every input char.\n",
    "  These are similar to class scores in classification tasks.\n",
    "- The hidden states at the **last timestep**, $\\vec{h}_S^{[k]}$, are the final hidden state returned from the model.\n",
    "- $\\sigma(\\cdot)$ is the sigmoid function, i.e. $\\sigma(\\vec{z}) = 1/(1+e^{-\\vec{z}})$ which returns values in $(0,1)$.\n",
    "- $\\tanh(\\cdot)$ is the hyperbolic tangent, i.e. $\\tanh(\\vec{z}) = (e^{2\\vec{z}}-1)/(e^{2\\vec{z}}+1)$ which returns values in $(-1,1)$.\n",
    "- $\\vec{h_t}^{[k]}$ is the hidden state of layer $k$ at time $t$. This can be thought of as the memory of that layer.\n",
    "- $\\vec{g_t}^{[k]}$ is the candidate hidden state for time $t+1$.\n",
    "- $\\vec{z_t}^{[k]}$ is known as the update gate. It combines the previous state with the input to determine how much the current state will be combined with the new candidate state. For example, if $\\vec{z_t}^{[k]}=\\vec{1}$ then the current input has no effect on the output.\n",
    "- $\\vec{r_t}^{[k]}$ is known as the reset gate. It combines the previous state with the input to determine how much of the previous state will affect the current state candidate. For example if $\\vec{r_t}^{[k]}=\\vec{0}$ the previous state has no effect on the current candidate state."
   ]
  },
  {
   "attachments": {},
   "cell_type": "markdown",
   "metadata": {},
   "source": [
    "Here's a graphical representation of the GRU's forward pass at each timestep. The $\\vec{\\tilde{h}}$ in the image is our $\\vec{g}$ (candidate next state).\n",
    "\n",
    "<img src=\"imgs/gru_cell.png\" width=\"400\"/>\n",
    "\n",
    "You can see how the reset and update gates allow the model to completely ignore it's previous state, completely ignore it's input, or any mixture of those states (since the gates are actually continuous and between $(0,1)$)."
   ]
  },
  {
   "attachments": {},
   "cell_type": "markdown",
   "metadata": {},
   "source": [
    "Here's a graphical representation of the entire model.\n",
    "You can ignore the $c_t^{[k]}$ (cell state) variables (which are relevant for LSTM models).\n",
    "Our model has only the hidden state, $h_t^{[k]}$. Also notice that we added dropout between layers (i.e., on the up arrows).\n",
    "\n",
    "<img src=\"imgs/lstm_model.png\" />\n",
    "\n",
    "The purple tensors are inputs (a sequence and initial hidden state per layer), and the green tensors are outputs (another sequence and final hidden state per layer). Each blue block implements the above forward equations.\n",
    "Blocks that are on the same vertical level are at the same layer, and therefore share parameters."
   ]
  },
  {
   "attachments": {},
   "cell_type": "markdown",
   "metadata": {},
   "source": [
    "**TODO**: Implement the `MultilayerGRU` class in the `hw3/charnn.py` module.\n",
    "\n",
    "Notes:\n",
    "- You'll need to handle input **batches** now.\n",
    "  The math is identical to the above, but all the tensors will have an extra batch\n",
    "  dimension as their first dimension.\n",
    "- Use the diagram above to help guide your implementation.\n",
    "  It will help you visualize what shapes to returns where, etc.\n"
   ]
  },
  {
   "cell_type": "code",
   "execution_count": 14,
   "metadata": {},
   "outputs": [
    {
     "name": "stdout",
     "output_type": "stream",
     "text": [
      "MultilayerGRU(\n",
      "  (Wxz_0): Linear(in_features=78, out_features=256, bias=False)\n",
      "  (Whz_0): Linear(in_features=256, out_features=256, bias=True)\n",
      "  (Wxr_0): Linear(in_features=78, out_features=256, bias=False)\n",
      "  (Whr_0): Linear(in_features=256, out_features=256, bias=True)\n",
      "  (Wxg_0): Linear(in_features=78, out_features=256, bias=False)\n",
      "  (Whg_0): Linear(in_features=256, out_features=256, bias=True)\n",
      "  (Dropout_0): Dropout(p=0, inplace=False)\n",
      "  (Wxz_1): Linear(in_features=256, out_features=256, bias=False)\n",
      "  (Whz_1): Linear(in_features=256, out_features=256, bias=True)\n",
      "  (Wxr_1): Linear(in_features=256, out_features=256, bias=False)\n",
      "  (Whr_1): Linear(in_features=256, out_features=256, bias=True)\n",
      "  (Wxg_1): Linear(in_features=256, out_features=256, bias=False)\n",
      "  (Whg_1): Linear(in_features=256, out_features=256, bias=True)\n",
      "  (Dropout_1): Dropout(p=0, inplace=False)\n",
      "  (Wxz_2): Linear(in_features=256, out_features=256, bias=False)\n",
      "  (Whz_2): Linear(in_features=256, out_features=256, bias=True)\n",
      "  (Wxr_2): Linear(in_features=256, out_features=256, bias=False)\n",
      "  (Whr_2): Linear(in_features=256, out_features=256, bias=True)\n",
      "  (Wxg_2): Linear(in_features=256, out_features=256, bias=False)\n",
      "  (Whg_2): Linear(in_features=256, out_features=256, bias=True)\n",
      "  (Dropout_2): Dropout(p=0, inplace=False)\n",
      "  (Why): Linear(in_features=256, out_features=78, bias=True)\n",
      ")\n",
      "y.shape=torch.Size([32, 64, 78])\n",
      "h.shape=torch.Size([32, 3, 256])\n"
     ]
    }
   ],
   "source": [
    "in_dim = vocab_len\n",
    "h_dim = 256\n",
    "n_layers = 3\n",
    "model = charnn.MultilayerGRU(in_dim, h_dim, out_dim=in_dim, n_layers=n_layers)\n",
    "model = model.to(device)\n",
    "print(model)\n",
    "\n",
    "# Test forward pass\n",
    "y, h = model(x0.to(dtype=torch.float, device=device))\n",
    "print(f'y.shape={y.shape}')\n",
    "print(f'h.shape={h.shape}')\n",
    "\n",
    "test.assertEqual(y.shape, (batch_size, seq_len, vocab_len))\n",
    "test.assertEqual(h.shape, (batch_size, n_layers, h_dim))\n",
    "test.assertEqual(len(list(model.parameters())), 9 * n_layers + 2)"
   ]
  },
  {
   "attachments": {},
   "cell_type": "markdown",
   "metadata": {},
   "source": [
    "### Generating text by sampling\n",
    "<a id=part1_6></a>"
   ]
  },
  {
   "attachments": {},
   "cell_type": "markdown",
   "metadata": {},
   "source": [
    "Now that we have a model, we can implement **text generation** based on it.\n",
    "The idea is simple:\n",
    "At each timestep our model receives one char $x_t$ from the input sequence and outputs scores $y_t$\n",
    "for what the next char should be.\n",
    "We'll convert these scores into a probability over each of the possible chars.\n",
    "In other words, for each input char $x_t$ we create a probability distribution for the next char\n",
    "conditioned on the current one and the state of the model (representing all previous inputs):\n",
    "$$p(x_{t+1}|x_t, \\vec{h}_t).$$\n",
    "\n",
    "Once we have such a distribution, we'll sample a char from it.\n",
    "This will be the first char of our generated sequence.\n",
    "Now we can feed this new char into the model, create another distribution, sample the next char and so on.\n",
    "Note that it's crucial to propagate the hidden state when sampling."
   ]
  },
  {
   "attachments": {},
   "cell_type": "markdown",
   "metadata": {},
   "source": [
    "The important point however is how to create the distribution from the scores.\n",
    "One way, as we saw in previous ML tasks, is to use the softmax function.\n",
    "However, a drawback of softmax is that it can generate very diffuse (more uniform) distributions if the score values are very similar. When sampling, we would prefer to control the distributions and make them less uniform to increase the chance of sampling the char(s) with the highest scores compared to the others.\n",
    "\n",
    "To control the variance of the distribution, a common trick is to add a hyperparameter $T$, known as the \n",
    "*temperature* to the softmax function. The class scores are simply scaled by $T$ before softmax is applied:\n",
    "$$\n",
    "\\mathrm{softmax}_T(\\vec{y}) = \\frac{e^{\\vec{y}/T}}{\\sum_k e^{y_k/T}}\n",
    "$$\n",
    "\n",
    "A low $T$ will result in less uniform distributions and vice-versa."
   ]
  },
  {
   "attachments": {},
   "cell_type": "markdown",
   "metadata": {},
   "source": [
    "**TODO**: Implement the `hot_softmax()` function in the `hw3/charnn.py` module."
   ]
  },
  {
   "cell_type": "code",
   "execution_count": 15,
   "metadata": {},
   "outputs": [
    {
     "data": {
      "image/png": "[encoded data removed]",
      "text/plain": [
       "<Figure size 1500x500 with 1 Axes>"
      ]
     },
     "metadata": {},
     "output_type": "display_data"
    }
   ],
   "source": [
    "scores = y[0,0,:].detach()\n",
    "_, ax = plt.subplots(figsize=(15,5))\n",
    "\n",
    "for t in reversed([0.3, 0.5, 1.0, 100]):\n",
    "    ax.plot(charnn.hot_softmax(scores, temperature=t).cpu().numpy(), label=f'T={t}')\n",
    "ax.set_xlabel('$x_{t+1}$')\n",
    "ax.set_ylabel('$p(x_{t+1}|x_t)$')\n",
    "ax.legend()\n",
    "\n",
    "uniform_proba = 1/len(char_to_idx)\n",
    "uniform_diff = torch.abs(charnn.hot_softmax(scores, temperature=100) - uniform_proba)\n",
    "test.assertTrue(torch.all(uniform_diff < 1e-4))"
   ]
  },
  {
   "attachments": {},
   "cell_type": "markdown",
   "metadata": {},
   "source": [
    "**TODO**: Implement the `generate_from_model()` function in the `hw3/charnn.py` module."
   ]
  },
  {
   "cell_type": "code",
   "execution_count": 16,
   "metadata": {},
   "outputs": [
    {
     "name": "stdout",
     "output_type": "stream",
     "text": [
      "foobar5gFoqUX)Whyg'vu)LhtB6&QQ;BvSe1nkLzJS\"j 6.F W\n",
      "foobar-FlWPZai,8HlHclKc.]bxa\n",
      "ATm?qW4J rl9M&X7?C(7w\n",
      "foobar\"xS-gu,FN?EItXC'jzjc[6?\"FGZCK:AV\n",
      "Kk.,:Wi-:p3\n"
     ]
    }
   ],
   "source": [
    "for _ in range(3):\n",
    "    text = charnn.generate_from_model(model, \"foobar\", 50, (char_to_idx, idx_to_char), T=0.5)\n",
    "    print(text)\n",
    "    test.assertEqual(len(text), 50)"
   ]
  },
  {
   "attachments": {},
   "cell_type": "markdown",
   "metadata": {},
   "source": [
    "### Training\n",
    "<a id=part1_7></a>"
   ]
  },
  {
   "attachments": {},
   "cell_type": "markdown",
   "metadata": {},
   "source": [
    "To train this model, we'll calculate the loss at each time step by comparing the predicted char to\n",
    "the actual char from our label. We can use cross entropy since per char it's similar to a classification problem.\n",
    "We'll then sum the losses over the sequence and back-propagate the gradients though time.\n",
    "Notice that the back-propagation algorithm will \"visit\" each layer's parameter tensors multiple times,\n",
    "so we'll accumulate gradients in parameters of the blocks. Luckily `autograd` will handle this part for us."
   ]
  },
  {
   "attachments": {},
   "cell_type": "markdown",
   "metadata": {},
   "source": [
    "As usual, the first step of training will be to try and **overfit** a large model (many parameters) to a tiny dataset.\n",
    "Again, this is to ensure the model and training code are implemented correctly, i.e. that the model can learn.\n",
    "\n",
    "For a generative model such as this, overfitting is slightly trickier than for classification.\n",
    "What we'll aim to do is to get our model to **memorize** a specific sequence of chars, so that when given the first\n",
    "char in the sequence it will immediately spit out the rest of the sequence verbatim.\n",
    "\n",
    "Let's create a tiny dataset to memorize."
   ]
  },
  {
   "cell_type": "code",
   "execution_count": 17,
   "metadata": {},
   "outputs": [
    {
     "name": "stdout",
     "output_type": "stream",
     "text": [
      "Text to \"memorize\":\n",
      "\n",
      "TRAM. What would you have?\n",
      "  HELENA. Something; and scarce so much; nothing, indeed.\n",
      "    I would not tell you what I would, my lord.\n",
      "    Faith, yes:\n",
      "    Strangers and foes do sunder and not kiss.\n",
      "  BERTRAM. I pray you, stay not, but in haste to horse.\n",
      "  HE\n"
     ]
    }
   ],
   "source": [
    "# Pick a tiny subset of the dataset\n",
    "subset_start, subset_end = 1001, 1005\n",
    "ds_corpus_ss = torch.utils.data.Subset(ds_corpus, range(subset_start, subset_end))\n",
    "batch_size_ss = 1\n",
    "sampler_ss = SequenceBatchSampler(ds_corpus_ss, batch_size=batch_size_ss)\n",
    "dl_corpus_ss = torch.utils.data.DataLoader(ds_corpus_ss, batch_size_ss, sampler=sampler_ss, shuffle=False)\n",
    "\n",
    "# Convert subset to text\n",
    "subset_text = ''\n",
    "for i in range(subset_end - subset_start):\n",
    "    subset_text += unembed(ds_corpus_ss[i][0])\n",
    "print(f'Text to \"memorize\":\\n\\n{subset_text}')"
   ]
  },
  {
   "attachments": {},
   "cell_type": "markdown",
   "metadata": {},
   "source": [
    "Now let's implement the first part of our training code.\n",
    "\n",
    "**TODO**: Implement the `train_epoch()` and `train_batch()` methods of the `RNNTrainer` class in the `hw3/training.py` module. \n",
    "You must think about how to correctly handle the hidden state of the model between batches and epochs for this specific task (i.e. text generation)."
   ]
  },
  {
   "cell_type": "code",
   "execution_count": 18,
   "metadata": {},
   "outputs": [
    {
     "name": "stdout",
     "output_type": "stream",
     "text": [
      "\n",
      "Epoch #1: Avg. loss = 3.940, Accuracy = 17.58%\n",
      "Twn                                               n                                                                                                                                                                                                             \n",
      "\n",
      "Epoch #25: Avg. loss = 0.278, Accuracy = 96.09%\n",
      "TRAM. What would you have?\n",
      "  HELENA. Something; and scarce so much; nothing, indeed.\n",
      "    I would not tell you what I would, would not tell you what I would, stand not kiss.\n",
      "  BERRRAM. I pray you, stay not, but in haste to horse.\n",
      "  HELLRAM. I pray you, stay\n",
      "\n",
      "Epoch #50: Avg. loss = 0.008, Accuracy = 100.00%\n",
      "TRAM. What would you have?\n",
      "  HELENA. Something; and scarce so much; nothing, indeed.\n",
      "    I would not tell you what I would, my lord.\n",
      "    Faith, yes:\n",
      "    Strangers and foes do sunder and not kiss.\n",
      "  BERTRAM. I pray you, stay not, but in haste to horse.\n",
      "  HE\n"
     ]
    }
   ],
   "source": [
    "import torch.nn as nn\n",
    "import torch.optim as optim\n",
    "from hw3.training import RNNTrainer\n",
    "\n",
    "torch.manual_seed(42)\n",
    "\n",
    "lr = 0.01\n",
    "num_epochs = 500\n",
    "\n",
    "in_dim = vocab_len\n",
    "h_dim = 128\n",
    "n_layers = 2\n",
    "loss_fn = nn.CrossEntropyLoss()\n",
    "model = charnn.MultilayerGRU(in_dim, h_dim, out_dim=in_dim, n_layers=n_layers).to(device)\n",
    "optimizer = optim.Adam(model.parameters(), lr=lr)\n",
    "trainer = RNNTrainer(model, loss_fn, optimizer, device)\n",
    "\n",
    "for epoch in range(num_epochs):\n",
    "    epoch_result = trainer.train_epoch(dl_corpus_ss, verbose=False)\n",
    "    \n",
    "    # Every X epochs, we'll generate a sequence starting from the first char in the first sequence\n",
    "    # to visualize how/if/what the model is learning.\n",
    "    if epoch == 0 or (epoch+1) % 25 == 0:\n",
    "        avg_loss = np.mean(epoch_result.losses)\n",
    "        accuracy = np.mean(epoch_result.accuracy)\n",
    "        print(f'\\nEpoch #{epoch+1}: Avg. loss = {avg_loss:.3f}, Accuracy = {accuracy:.2f}%')\n",
    "        \n",
    "        generated_sequence = charnn.generate_from_model(model, subset_text[0],\n",
    "                                                        seq_len*(subset_end-subset_start),\n",
    "                                                        (char_to_idx,idx_to_char), T=0.1)\n",
    "        \n",
    "        # Stop if we've successfully memorized the small dataset.\n",
    "        print(generated_sequence)\n",
    "        if generated_sequence == subset_text:\n",
    "            break\n",
    "\n",
    "# Test successful overfitting\n",
    "test.assertGreater(epoch_result.accuracy, 99)\n",
    "test.assertEqual(generated_sequence, subset_text)"
   ]
  },
  {
   "attachments": {},
   "cell_type": "markdown",
   "metadata": {},
   "source": [
    "OK, so training works - we can memorize a short sequence.\n",
    "We'll now train a much larger model on our large dataset. You'll need a GPU for this part.\n",
    "\n",
    "First, lets set up our dataset and models for training.\n",
    "We'll split our corpus into 90% train and 10% test-set.\n",
    "Also, we'll use a learning-rate scheduler to control the learning rate during training."
   ]
  },
  {
   "attachments": {},
   "cell_type": "markdown",
   "metadata": {},
   "source": [
    "**TODO**: Set the hyperparameters in the `part1_rnn_hyperparams()` function of the `hw3/answers.py` module."
   ]
  },
  {
   "cell_type": "code",
   "execution_count": 19,
   "metadata": {},
   "outputs": [
    {
     "name": "stdout",
     "output_type": "stream",
     "text": [
      "hyperparams:\n",
      " {'batch_size': 512, 'seq_len': 64, 'h_dim': 1024, 'n_layers': 3, 'dropout': 0.4, 'learn_rate': 0.001, 'lr_sched_factor': 0.8, 'lr_sched_patience': 6}\n",
      "Train: 174 batches, 5701632 chars\n",
      "Test:   19 batches,  622592 chars\n"
     ]
    }
   ],
   "source": [
    "from hw3.answers import part1_rnn_hyperparams\n",
    "\n",
    "hp = part1_rnn_hyperparams()\n",
    "print('hyperparams:\\n', hp)\n",
    "\n",
    "### Dataset definition\n",
    "vocab_len = len(char_to_idx)\n",
    "batch_size = hp['batch_size']\n",
    "seq_len = hp['seq_len']\n",
    "train_test_ratio = 0.9\n",
    "num_samples = (len(corpus) - 1) // seq_len\n",
    "num_train = int(train_test_ratio * num_samples)\n",
    "\n",
    "samples, labels = charnn.chars_to_labelled_samples(corpus, char_to_idx, seq_len, device)\n",
    "\n",
    "ds_train = torch.utils.data.TensorDataset(samples[:num_train], labels[:num_train])\n",
    "sampler_train = SequenceBatchSampler(ds_train, batch_size)\n",
    "dl_train = torch.utils.data.DataLoader(ds_train, batch_size, shuffle=False, sampler=sampler_train, drop_last=True)\n",
    "\n",
    "ds_test = torch.utils.data.TensorDataset(samples[num_train:], labels[num_train:])\n",
    "sampler_test = SequenceBatchSampler(ds_test, batch_size)\n",
    "dl_test = torch.utils.data.DataLoader(ds_test, batch_size, shuffle=False, sampler=sampler_test, drop_last=True)\n",
    "\n",
    "print(f'Train: {len(dl_train):3d} batches, {len(dl_train)*batch_size*seq_len:7d} chars')\n",
    "print(f'Test:  {len(dl_test):3d} batches, {len(dl_test)*batch_size*seq_len:7d} chars')\n",
    "\n",
    "### Training definition\n",
    "in_dim = out_dim = vocab_len\n",
    "checkpoint_file = 'checkpoints/rnn'\n",
    "num_epochs = 50\n",
    "early_stopping = 5\n",
    "\n",
    "model = charnn.MultilayerGRU(in_dim, hp['h_dim'], out_dim, hp['n_layers'], hp['dropout'])\n",
    "loss_fn = nn.CrossEntropyLoss()\n",
    "optimizer = optim.Adam(model.parameters(), lr=hp['learn_rate'])\n",
    "scheduler = optim.lr_scheduler.ReduceLROnPlateau(\n",
    "    optimizer, mode='max', factor=hp['lr_sched_factor'], patience=hp['lr_sched_patience'], verbose=True\n",
    ")\n",
    "trainer = RNNTrainer(model, loss_fn, optimizer, device)"
   ]
  },
  {
   "attachments": {},
   "cell_type": "markdown",
   "metadata": {},
   "source": [
    "The code blocks below will train the model and save checkpoints containing the training state and the best model parameters to a file. This allows you to stop training and resume it later from where you left.\n",
    "\n",
    "Note that you can use the `main.py` script provided within the assignment folder to run this notebook from the command line as if it were a python script by using the `run-nb` subcommand. This allows you to train your model using this notebook without starting jupyter. You can combine this with `srun` or `sbatch` to run the notebook with a GPU on the course servers."
   ]
  },
  {
   "attachments": {},
   "cell_type": "markdown",
   "metadata": {},
   "source": [
    "**TODO**:\n",
    "- Implement the `fit()` method of the `Trainer` class. You can reuse the relevant implementation parts from HW2, but make sure to implement early stopping and checkpoints.\n",
    "- Implement the `test_epoch()` and `test_batch()` methods of the `RNNTrainer` class in the `hw3/training.py` module.\n",
    "- Run the following block to train.\n",
    "- When training is done and you're satisfied with the model's outputs, rename the checkpoint file to `checkpoints/rnn_final.pt`.\n",
    "  This will cause the block to skip training and instead load your saved model when running the homework submission script.\n",
    "  Note that your submission zip file will not include the checkpoint file. This is OK."
   ]
  },
  {
   "cell_type": "code",
   "execution_count": 20,
   "metadata": {},
   "outputs": [
    {
     "name": "stdout",
     "output_type": "stream",
     "text": [
      "ACT I.q]RwGofxmP\"0xKjl94haEX\n",
      "hkf?8!RpRvO)MoR&4'1iv]z)Mad3;,&BX]3O&TE\n",
      "X]y\n",
      "c&ckWwqh)kqy(Xq0MuwBEP?80Ra\n",
      "--- EPOCH 1/50 ---\n",
      "train_batch (Avg. Loss 2.394, Accuracy 35.7): 100%|█████████████████████████████████████████████████████████████████| 174/174 [01:11<00:00,  2.44it/s]\n",
      "test_batch (Avg. Loss 1.957, Accuracy 41.9): 100%|████████████████████████████████████████████████████████████████████| 19/19 [00:02<00:00,  7.52it/s]\n",
      "ACT I. When heach the Durthing my say,\n",
      "    I would for of the laye of the exest the came and and her\n",
      "--- EPOCH 2/50 ---\n",
      "train_batch (Avg. Loss 1.647, Accuracy 51.3): 100%|█████████████████████████████████████████████████████████████████| 174/174 [01:13<00:00,  2.36it/s]\n",
      "test_batch (Avg. Loss 1.610, Accuracy 50.8): 100%|████████████████████████████████████████████████████████████████████| 19/19 [00:02<00:00,  7.36it/s]\n",
      "ACT I.\n",
      "KING RICHARD VIND. My lord, and should not so not of your country\n",
      "    That he did not be the \n",
      "--- EPOCH 3/50 ---\n",
      "train_batch (Avg. Loss 1.442, Accuracy 56.7): 100%|█████████████████████████████████████████████████████████████████| 174/174 [01:14<00:00,  2.33it/s]\n",
      "test_batch (Avg. Loss 1.457, Accuracy 55.0): 100%|████████████████████████████████████████████████████████████████████| 19/19 [00:02<00:00,  7.36it/s]\n",
      "ACT I. Sir, I will go not so deserved for your\n",
      "    love the bloody of your than to him.\n",
      "\n",
      "           \n",
      "--- EPOCH 4/50 ---\n",
      "train_batch (Avg. Loss 1.341, Accuracy 59.4): 100%|█████████████████████████████████████████████████████████████████| 174/174 [01:14<00:00,  2.33it/s]\n",
      "test_batch (Avg. Loss 1.383, Accuracy 56.9): 100%|████████████████████████████████████████████████████████████████████| 19/19 [00:02<00:00,  7.38it/s]\n",
      "ACT I.\n",
      "                                                               Exeunt\n",
      "\n",
      "SCENE VII.\n",
      "And the KIN\n",
      "--- EPOCH 5/50 ---\n",
      "train_batch (Avg. Loss 1.279, Accuracy 61.0): 100%|█████████████████████████████████████████████████████████████████| 174/174 [01:14<00:00,  2.33it/s]\n",
      "test_batch (Avg. Loss 1.333, Accuracy 58.2): 100%|████████████████████████████████████████████████████████████████████| 19/19 [00:02<00:00,  7.38it/s]\n",
      "ACT I. So do you with your lordship;\n",
      "                                                               \n",
      "--- EPOCH 6/50 ---\n",
      "train_batch (Avg. Loss 1.235, Accuracy 62.1): 100%|█████████████████████████████████████████████████████████████████| 174/174 [01:14<00:00,  2.33it/s]\n",
      "test_batch (Avg. Loss 1.297, Accuracy 59.2): 100%|████████████████████████████████████████████████████████████████████| 19/19 [00:02<00:00,  7.37it/s]\n",
      "ACT I. SCENE 4.\n",
      "The man hath cribed like a power of composition.\n",
      "\n",
      "HENRY BOLINGBROKE:\n",
      "The gods can we\n",
      "--- EPOCH 7/50 ---\n",
      "train_batch (Avg. Loss 1.202, Accuracy 62.9): 100%|█████████████████████████████████████████████████████████████████| 174/174 [01:14<00:00,  2.33it/s]\n",
      "test_batch (Avg. Loss 1.272, Accuracy 59.8): 100%|████████████████████████████████████████████████████████████████████| 19/19 [00:02<00:00,  7.37it/s]\n",
      "ACT I.\n",
      "\n",
      "                       Enter Hector.\n",
      "\n",
      "    I cannot be so false and services.\n",
      "    The king is\n",
      "--- EPOCH 8/50 ---\n",
      "train_batch (Avg. Loss 1.177, Accuracy 63.6): 100%|█████████████████████████████████████████████████████████████████| 174/174 [01:13<00:00,  2.36it/s]\n",
      "test_batch (Avg. Loss 1.249, Accuracy 60.5): 100%|████████████████████████████████████████████████████████████████████| 19/19 [00:02<00:00,  7.47it/s]\n",
      "ACT I. SCENE I.\n",
      "The rage of Caesar lies.\n",
      "\n",
      "Enter PAGE, and ANTONIO\n",
      "\n",
      "  LUCIUS. Why, now I have a soldi\n",
      "--- EPOCH 9/50 ---\n",
      "train_batch (Avg. Loss 1.155, Accuracy 64.2): 100%|█████████████████████████████████████████████████████████████████| 174/174 [01:12<00:00,  2.40it/s]\n",
      "test_batch (Avg. Loss 1.230, Accuracy 61.0): 100%|████████████████████████████████████████████████████████████████████| 19/19 [00:02<00:00,  7.48it/s]\n",
      "ACT I. The world bestows the life\n",
      "    where they three professions of the three of his name is the b\n",
      "--- EPOCH 10/50 ---\n",
      "train_batch (Avg. Loss 1.136, Accuracy 64.7): 100%|█████████████████████████████████████████████████████████████████| 174/174 [01:12<00:00,  2.39it/s]\n",
      "test_batch (Avg. Loss 1.213, Accuracy 61.3): 100%|████████████████████████████████████████████████████████████████████| 19/19 [00:02<00:00,  7.44it/s]\n",
      "ACT I. Sir John Falstaff\n",
      "                                                                           \n",
      "--- EPOCH 11/50 ---\n",
      "train_batch (Avg. Loss 1.120, Accuracy 65.1): 100%|█████████████████████████████████████████████████████████████████| 174/174 [01:12<00:00,  2.40it/s]\n",
      "test_batch (Avg. Loss 1.203, Accuracy 61.7): 100%|████████████████████████████████████████████████████████████████████| 19/19 [00:02<00:00,  7.47it/s]\n",
      "ACT I. The Troyans of Lord Talbot\n",
      "  \n",
      "  LADY MACBETH, and a good woman at nine and the state of the\n",
      " \n",
      "--- EPOCH 12/50 ---\n",
      "train_batch (Avg. Loss 1.108, Accuracy 65.4): 100%|█████████████████████████████████████████████████████████████████| 174/174 [01:12<00:00,  2.41it/s]\n",
      "test_batch (Avg. Loss 1.195, Accuracy 61.9): 100%|████████████████████████████████████████████████████████████████████| 19/19 [00:02<00:00,  7.46it/s]\n",
      "ACT I. And the free of the case\n",
      "\n",
      "  And let the ground that all his soul is here.\n",
      "\n",
      "KING RICHARD III:\n",
      "\n",
      "--- EPOCH 13/50 ---\n",
      "train_batch (Avg. Loss 1.094, Accuracy 65.8): 100%|█████████████████████████████████████████████████████████████████| 174/174 [01:12<00:00,  2.41it/s]\n",
      "test_batch (Avg. Loss 1.186, Accuracy 62.2): 100%|████████████████████████████████████████████████████████████████████| 19/19 [00:02<00:00,  7.47it/s]\n",
      "ACT I. The enemy as sure the SIXTH\n",
      "\n",
      "  CAESAR. Now all the world is now so far as you shall see the c\n",
      "--- EPOCH 14/50 ---\n",
      "train_batch (Avg. Loss 1.082, Accuracy 66.2): 100%|█████████████████████████████████████████████████████████████████| 174/174 [01:13<00:00,  2.38it/s]\n",
      "test_batch (Avg. Loss 1.173, Accuracy 62.6): 100%|████████████████████████████████████████████████████████████████████| 19/19 [00:02<00:00,  7.47it/s]\n",
      "ACT I. SCENE I.\n",
      "                                               THE TOMER\n",
      "\n",
      "  LUCENTIO. My lord, here \n",
      "--- EPOCH 15/50 ---\n",
      "train_batch (Avg. Loss 1.070, Accuracy 66.5): 100%|█████████████████████████████████████████████████████████████████| 174/174 [01:13<00:00,  2.36it/s]\n",
      "test_batch (Avg. Loss 1.166, Accuracy 62.8): 100%|████████████████████████████████████████████████████████████████████| 19/19 [00:02<00:00,  7.45it/s]\n",
      "ACT I. SCENE I.\n",
      "The palace of LEONTES\n",
      "\n",
      "Enter HELENA, with LUCENTIO and LADY MACBETH\n",
      "\n",
      "  THIRD LORD. T\n",
      "--- EPOCH 16/50 ---\n",
      "train_batch (Avg. Loss 1.060, Accuracy 66.8): 100%|█████████████████████████████████████████████████████████████████| 174/174 [01:13<00:00,  2.36it/s]\n",
      "test_batch (Avg. Loss 1.157, Accuracy 63.0): 100%|████████████████████████████████████████████████████████████████████| 19/19 [00:02<00:00,  7.46it/s]\n",
      "ACT I. SCENE 1.\n",
      "\n",
      "London. The palace\n",
      "\n",
      "Enter GAUNT, and CAMPEIUS\n",
      "\n",
      "  CHARLES. Nay, I am sure you can be\n",
      "--- EPOCH 17/50 ---\n",
      "train_batch (Avg. Loss 1.051, Accuracy 67.1): 100%|█████████████████████████████████████████████████████████████████| 174/174 [01:12<00:00,  2.41it/s]\n",
      "test_batch (Avg. Loss 1.152, Accuracy 63.2): 100%|████████████████████████████████████████████████████████████████████| 19/19 [00:02<00:00,  7.46it/s]\n",
      "ACT I. A man of the Capitol\n",
      "\n",
      "  CHARLES. Stand by thy face, and thou art worth a king.\n",
      "    Here comes\n",
      "--- EPOCH 18/50 ---\n",
      "train_batch (Avg. Loss 1.044, Accuracy 67.3): 100%|█████████████████████████████████████████████████████████████████| 174/174 [01:12<00:00,  2.41it/s]\n",
      "test_batch (Avg. Loss 1.145, Accuracy 63.4): 100%|████████████████████████████████████████████████████████████████████| 19/19 [00:02<00:00,  7.47it/s]\n",
      "ACT I. What ho!\n",
      "\n",
      "  MARIANA. O my brother, he is deliver'd of!\n",
      "    And here the sight of God I have s\n",
      "--- EPOCH 19/50 ---\n",
      "train_batch (Avg. Loss 1.036, Accuracy 67.5): 100%|█████████████████████████████████████████████████████████████████| 174/174 [01:12<00:00,  2.41it/s]\n",
      "test_batch (Avg. Loss 1.137, Accuracy 63.6): 100%|████████████████████████████████████████████████████████████████████| 19/19 [00:02<00:00,  7.47it/s]\n",
      "ACT I. SCENE 1.\n",
      "\n",
      "London. The palace\n",
      "\n",
      "Enter ANTONIO and LEONTES\n",
      "\n",
      "Enter ANTONY and CLOWN\n",
      "\n",
      "  CLOWN. You\n",
      "--- EPOCH 20/50 ---\n",
      "train_batch (Avg. Loss 1.028, Accuracy 67.7): 100%|█████████████████████████████████████████████████████████████████| 174/174 [01:14<00:00,  2.34it/s]\n",
      "test_batch (Avg. Loss 1.137, Accuracy 63.7): 100%|████████████████████████████████████████████████████████████████████| 19/19 [00:02<00:00,  7.13it/s]\n",
      "ACT I. O Warwick, I have sent for you\n",
      "    to the Count Slander the Roman, and the rest of the Count,\n",
      "--- EPOCH 21/50 ---\n",
      "train_batch (Avg. Loss 1.021, Accuracy 67.9): 100%|█████████████████████████████████████████████████████████████████| 174/174 [01:14<00:00,  2.33it/s]\n",
      "test_batch (Avg. Loss 1.129, Accuracy 63.8): 100%|████████████████████████████████████████████████████████████████████| 19/19 [00:02<00:00,  7.21it/s]\n",
      "ACT I. Sweet lady,\n",
      "                                                                              and\n",
      "--- EPOCH 22/50 ---\n",
      "train_batch (Avg. Loss 1.015, Accuracy 68.1): 100%|█████████████████████████████████████████████████████████████████| 174/174 [01:14<00:00,  2.34it/s]\n",
      "test_batch (Avg. Loss 1.132, Accuracy 63.9): 100%|████████████████████████████████████████████████████████████████████| 19/19 [00:02<00:00,  7.18it/s]\n",
      "ACT I.\n",
      "\n",
      "                                  Enter a SERVANT\n",
      "\n",
      "  SERVANT. Here comes the royalty.\n",
      "  SECO\n",
      "--- EPOCH 23/50 ---\n",
      "train_batch (Avg. Loss 1.009, Accuracy 68.3): 100%|█████████████████████████████████████████████████████████████████| 174/174 [01:14<00:00,  2.34it/s]\n",
      "test_batch (Avg. Loss 1.133, Accuracy 63.8): 100%|████████████████████████████████████████████████████████████████████| 19/19 [00:02<00:00,  7.17it/s]\n",
      "ACT I. And then at once another\n",
      "\n",
      "  FALSTAFF. Let the hand and tell him what have you to love him, he\n",
      "--- EPOCH 24/50 ---\n",
      "train_batch (Avg. Loss 1.003, Accuracy 68.5): 100%|█████████████████████████████████████████████████████████████████| 174/174 [01:14<00:00,  2.34it/s]\n",
      "test_batch (Avg. Loss 1.124, Accuracy 64.1): 100%|████████████████████████████████████████████████████████████████████| 19/19 [00:02<00:00,  7.20it/s]\n",
      "ACT I. SCENE I.\n",
      "The park\n",
      "\n",
      "Enter PAROLLES, MENELAUS, and ATTENDANTS\n",
      "\n",
      "  PETRUCHIO. Now, gentle Prince,\n",
      "--- EPOCH 25/50 ---\n",
      "train_batch (Avg. Loss 0.998, Accuracy 68.6): 100%|█████████████████████████████████████████████████████████████████| 174/174 [01:14<00:00,  2.33it/s]\n",
      "test_batch (Avg. Loss 1.116, Accuracy 64.4): 100%|████████████████████████████████████████████████████████████████████| 19/19 [00:02<00:00,  6.99it/s]\n",
      "ACT I. So stand as I\n",
      "                                                                               \n",
      "--- EPOCH 26/50 ---\n",
      "train_batch (Avg. Loss 0.993, Accuracy 68.8): 100%|█████████████████████████████████████████████████████████████████| 174/174 [01:14<00:00,  2.34it/s]\n",
      "test_batch (Avg. Loss 1.110, Accuracy 64.6): 100%|████████████████████████████████████████████████████████████████████| 19/19 [00:02<00:00,  7.18it/s]\n",
      "ACT I. A street\n",
      "\n",
      "Enter the KING, and others.\n",
      "\n",
      "  MACBETH. The gods go these that do the general of th\n",
      "--- EPOCH 27/50 ---\n",
      "train_batch (Avg. Loss 0.988, Accuracy 68.9): 100%|█████████████████████████████████████████████████████████████████| 174/174 [01:14<00:00,  2.33it/s]\n",
      "test_batch (Avg. Loss 1.105, Accuracy 64.7): 100%|████████████████████████████████████████████████████████████████████| 19/19 [00:02<00:00,  7.16it/s]\n",
      "ACT I. Well, I'll be wonichious.\n",
      "    What say you to your ladyship?\n",
      "  KING. I have had him to so gre\n",
      "--- EPOCH 28/50 ---\n",
      "train_batch (Avg. Loss 0.984, Accuracy 69.1): 100%|█████████████████████████████████████████████████████████████████| 174/174 [01:14<00:00,  2.33it/s]\n",
      "test_batch (Avg. Loss 1.104, Accuracy 64.8): 100%|████████████████████████████████████████████████████████████████████| 19/19 [00:02<00:00,  7.20it/s]\n",
      "ACT I. Now all the rest to the law\n",
      "    Of the whole lord, when he was lord of in\n",
      "    The business is\n",
      "--- EPOCH 29/50 ---\n",
      "train_batch (Avg. Loss 0.979, Accuracy 69.2): 100%|█████████████████████████████████████████████████████████████████| 174/174 [01:14<00:00,  2.33it/s]\n",
      "test_batch (Avg. Loss 1.104, Accuracy 64.8): 100%|████████████████████████████████████████████████████████████████████| 19/19 [00:02<00:00,  7.19it/s]\n",
      "ACT I. Lucius,\n",
      "                                                                      [Lauses the sta\n",
      "--- EPOCH 30/50 ---\n",
      "train_batch (Avg. Loss 0.976, Accuracy 69.3): 100%|█████████████████████████████████████████████████████████████████| 174/174 [01:14<00:00,  2.34it/s]\n",
      "test_batch (Avg. Loss 1.104, Accuracy 64.9): 100%|████████████████████████████████████████████████████████████████████| 19/19 [00:02<00:00,  7.19it/s]\n",
      "ACT I. My lord,\n",
      "    I am a man of your confederates,\n",
      "    That I may say I shall be long above the go\n",
      "--- EPOCH 31/50 ---\n",
      "train_batch (Avg. Loss 0.973, Accuracy 69.4): 100%|█████████████████████████████████████████████████████████████████| 174/174 [01:14<00:00,  2.34it/s]\n",
      "test_batch (Avg. Loss 1.099, Accuracy 65.0): 100%|████████████████████████████████████████████████████████████████████| 19/19 [00:02<00:00,  6.96it/s]\n",
      "ACT I. Here comes the castle.\n",
      "                                                                      \n",
      "--- EPOCH 32/50 ---\n",
      "train_batch (Avg. Loss 0.969, Accuracy 69.5): 100%|████████████████████████████████████████████████████████████████████████████████████████████████| 174/174 [01:14<00:00,  2.34it/s]\n",
      "test_batch (Avg. Loss 1.095, Accuracy 65.1): 100%|██████████████████████████████████████████████████| 19/19 [00:02<00:00,  7.01it/s]\n",
      "ACT I. And I would say\n",
      "    'Monstrous man's love, call him a constable.\n",
      "    I think he hath a hand a\n",
      "--- EPOCH 33/50 ---\n",
      "train_batch (Avg. Loss 0.966, Accuracy 69.6): 100%|███████████████████████████████████████████████| 174/174 [01:14<00:00,  2.33it/s]\n",
      "test_batch (Avg. Loss 1.088, Accuracy 65.3): 100%|██████████████████████████████████████████████████| 19/19 [00:02<00:00,  7.04it/s]\n",
      "ACT I. Scotland, holy friend.\n",
      "                                                             Exeunt\n",
      "\n",
      "S\n",
      "--- EPOCH 34/50 ---\n",
      "train_batch (Avg. Loss 0.962, Accuracy 69.7): 100%|███████████████████████████████████████████████| 174/174 [01:14<00:00,  2.33it/s]\n",
      "test_batch (Avg. Loss 1.089, Accuracy 65.3): 100%|██████████████████████████████████████████████████| 19/19 [00:02<00:00,  7.19it/s]\n",
      "ACT I. And at another\n",
      "\n",
      "    Which the Prince does not all the greater come before you\n",
      "    to deny me,\n",
      "--- EPOCH 35/50 ---\n",
      "train_batch (Avg. Loss 0.957, Accuracy 69.9): 100%|███████████████████████████████████████████████| 174/174 [01:14<00:00,  2.34it/s]\n",
      "test_batch (Avg. Loss 1.086, Accuracy 65.4): 100%|██████████████████████████████████████████████████| 19/19 [00:02<00:00,  7.19it/s]\n",
      "ACT I. Where is the King?\n",
      "  MESSENGER. My lord, I think you know my father liv'd.\n",
      "                  \n",
      "--- EPOCH 36/50 ---\n",
      "train_batch (Avg. Loss 0.953, Accuracy 70.0): 100%|███████████████████████████████████████████████| 174/174 [01:14<00:00,  2.32it/s]\n",
      "test_batch (Avg. Loss 1.082, Accuracy 65.5): 100%|██████████████████████████████████████████████████| 19/19 [00:02<00:00,  7.01it/s]\n",
      "ACT I. Come, sir, away.\n",
      "\n",
      "                                 Enter Macbeth.\n",
      "\n",
      "  MACDUFF. What means this\n",
      "--- EPOCH 37/50 ---\n",
      "train_batch (Avg. Loss 0.951, Accuracy 70.1): 100%|███████████████████████████████████████████████| 174/174 [01:15<00:00,  2.31it/s]\n",
      "test_batch (Avg. Loss 1.081, Accuracy 65.5): 100%|██████████████████████████████████████████████████| 19/19 [00:02<00:00,  7.18it/s]\n",
      "ACT I. If the Duke climb with the complaint of\n",
      "    the Castle, the plain man of Caesar and the Duke \n",
      "--- EPOCH 38/50 ---\n",
      "train_batch (Avg. Loss 0.948, Accuracy 70.1): 100%|███████████████████████████████████████████████| 174/174 [01:14<00:00,  2.33it/s]\n",
      "test_batch (Avg. Loss 1.078, Accuracy 65.6): 100%|██████████████████████████████████████████████████| 19/19 [00:02<00:00,  6.87it/s]\n",
      "ACT I. SCENE I.\n",
      "London. The palace\n",
      "\n",
      "Enter MESSENGER, at another MACDUFF and the other with the scorn\n",
      "--- EPOCH 39/50 ---\n",
      "train_batch (Avg. Loss 0.945, Accuracy 70.2): 100%|███████████████████████████████████████████████| 174/174 [01:15<00:00,  2.30it/s]\n",
      "test_batch (Avg. Loss 1.079, Accuracy 65.7): 100%|██████████████████████████████████████████████████| 19/19 [00:02<00:00,  6.98it/s]\n",
      "ACT I.\n",
      "\n",
      "                                Enter a MESSENGER\n",
      "\n",
      "  MESSENGER. My lord, I'll bring you to y\n",
      "--- EPOCH 40/50 ---\n",
      "train_batch (Avg. Loss 0.942, Accuracy 70.3): 100%|███████████████████████████████████████████████| 174/174 [01:14<00:00,  2.33it/s]\n",
      "test_batch (Avg. Loss 1.074, Accuracy 65.7): 100%|██████████████████████████████████████████████████| 19/19 [00:02<00:00,  7.17it/s]\n",
      "ACT I. SCENE I.\n",
      "Wales. Before LUCENTIO'S house\n",
      "\n",
      "Enter PETRUCHIO, and BIONDELLO\n",
      "\n",
      "  PETRUCHIO. Say tha\n",
      "--- EPOCH 41/50 ---\n",
      "train_batch (Avg. Loss 0.940, Accuracy 70.4): 100%|███████████████████████████████████████████████| 174/174 [01:14<00:00,  2.32it/s]\n",
      "test_batch (Avg. Loss 1.075, Accuracy 65.7): 100%|██████████████████████████████████████████████████| 19/19 [00:02<00:00,  7.20it/s]\n",
      "ACT I. SCENE I.\n",
      "Before the Castle.\n",
      "\n",
      "Enter Gloucester and Edmund.\n",
      "\n",
      "Enter PETRUCHIO, and HERMIA, with \n",
      "--- EPOCH 42/50 ---\n",
      "train_batch (Avg. Loss 0.938, Accuracy 70.5): 100%|███████████████████████████████████████████████| 174/174 [01:14<00:00,  2.34it/s]\n",
      "test_batch (Avg. Loss 1.073, Accuracy 65.9): 100%|██████████████████████████████████████████████████| 19/19 [00:02<00:00,  7.19it/s]\n",
      "ACT I. SCENE 1.\n",
      "\n",
      "London. The palace\n",
      "\n",
      "Enter the KING and the WIDOW and PRINCE HENRY\n",
      "\n",
      "    Here comes t\n",
      "--- EPOCH 43/50 ---\n",
      "train_batch (Avg. Loss 0.936, Accuracy 70.5): 100%|███████████████████████████████████████████████| 174/174 [01:14<00:00,  2.32it/s]\n",
      "test_batch (Avg. Loss 1.072, Accuracy 65.9): 100%|██████████████████████████████████████████████████| 19/19 [00:02<00:00,  7.02it/s]\n",
      "ACT I. SCENE I.\n",
      "The palace.\n",
      "\n",
      "Enter GLOUCESTER, and WILLIAM and GARDINER\n",
      "\n",
      "  GOWER. Here comes a pesti\n",
      "--- EPOCH 44/50 ---\n",
      "train_batch (Avg. Loss 0.933, Accuracy 70.6): 100%|███████████████████████████████████████████████| 174/174 [01:14<00:00,  2.34it/s]\n",
      "test_batch (Avg. Loss 1.068, Accuracy 66.0): 100%|██████████████████████████████████████████████████| 19/19 [00:02<00:00,  7.18it/s]\n",
      "ACT I. SCENE I.\n",
      "Rome. A street\n",
      "\n",
      "Enter CLOWN, SERVANTS, and GAUNT and others\n",
      "\n",
      "  PROSPERO. I would tho\n",
      "--- EPOCH 45/50 ---\n",
      "train_batch (Avg. Loss 0.931, Accuracy 70.7): 100%|███████████████████████████████████████████████| 174/174 [01:14<00:00,  2.34it/s]\n",
      "test_batch (Avg. Loss 1.065, Accuracy 66.0): 100%|██████████████████████████████████████████████████| 19/19 [00:02<00:00,  7.18it/s]\n",
      "ACT I. Scotland\n",
      "\n",
      "ACT I. SCENE I.\n",
      "Another part of the field\n",
      "\n",
      "Flourish. Enter CAIUS and EXETER\n",
      "\n",
      "  EXET\n",
      "--- EPOCH 46/50 ---\n",
      "train_batch (Avg. Loss 0.929, Accuracy 70.7): 100%|███████████████████████████████████████████████| 174/174 [01:14<00:00,  2.34it/s]\n",
      "test_batch (Avg. Loss 1.065, Accuracy 66.0): 100%|██████████████████████████████████████████████████| 19/19 [00:02<00:00,  7.18it/s]\n",
      "ACT I.\n",
      "                                                                        Exeunt\n",
      "\n",
      "SCENE III.\n",
      "A \n",
      "--- EPOCH 47/50 ---\n",
      "train_batch (Avg. Loss 0.927, Accuracy 70.8): 100%|███████████████████████████████████████████████| 174/174 [01:14<00:00,  2.34it/s]\n",
      "test_batch (Avg. Loss 1.072, Accuracy 65.9): 100%|██████████████████████████████████████████████████| 19/19 [00:02<00:00,  7.19it/s]\n",
      "ACT I. Scene I.\n",
      "                                                                 Enter HOST\n",
      "\n",
      "  FALST\n",
      "--- EPOCH 48/50 ---\n",
      "train_batch (Avg. Loss 0.925, Accuracy 70.8): 100%|███████████████████████████████████████████████| 174/174 [01:14<00:00,  2.33it/s]\n",
      "test_batch (Avg. Loss 1.066, Accuracy 66.1): 100%|██████████████████████████████████████████████████| 19/19 [00:02<00:00,  7.01it/s]\n",
      "ACT I. Speak, sir,\n",
      "                                                                                 \n",
      "--- EPOCH 49/50 ---\n",
      "train_batch (Avg. Loss 0.923, Accuracy 70.9): 100%|███████████████████████████████████████████████| 174/174 [01:15<00:00,  2.32it/s]\n",
      "test_batch (Avg. Loss 1.064, Accuracy 66.2): 100%|██████████████████████████████████████████████████| 19/19 [00:02<00:00,  7.18it/s]\n",
      "ACT I. Scene, sir,\n",
      "    The better for your pains. But I will not\n",
      "    With any string upon your lords\n",
      "--- EPOCH 50/50 ---\n",
      "train_batch (Avg. Loss 0.921, Accuracy 71.0): 100%|███████████████████████████████████████████████| 174/174 [01:14<00:00,  2.34it/s]\n",
      "test_batch (Avg. Loss 1.062, Accuracy 66.2): 100%|██████████████████████████████████████████████████| 19/19 [00:02<00:00,  7.18it/s]\n",
      "ACT I. SCENE I.\n",
      "The Duke of NORFOLK\n",
      "  EDWARD, GLOUCESTER, and SALISBURY\n",
      "\n",
      "  SECOND MERCHANT. Have you\n"
     ]
    },
    {
     "data": {
      "image/png": "[encoded data removed]",
      "text/plain": [
       "<Figure size 1600x1000 with 4 Axes>"
      ]
     },
     "metadata": {},
     "output_type": "display_data"
    }
   ],
   "source": [
    "from cs236781.plot import plot_fit\n",
    "\n",
    "def post_epoch_fn(epoch, train_res, test_res, verbose):\n",
    "    # Update learning rate\n",
    "    scheduler.step(test_res.accuracy)\n",
    "    # Sample from model to show progress\n",
    "    if verbose:\n",
    "        start_seq = \"ACT I.\"\n",
    "        generated_sequence = charnn.generate_from_model(\n",
    "            model, start_seq, 100, (char_to_idx,idx_to_char), T=0.5\n",
    "        )\n",
    "        print(generated_sequence)\n",
    "\n",
    "# Train, unless final checkpoint is found\n",
    "checkpoint_file_final = f'{checkpoint_file}_final.pt'\n",
    "if os.path.isfile(checkpoint_file_final):\n",
    "    print(f'*** Loading final checkpoint file {checkpoint_file_final} instead of training')\n",
    "    saved_state = torch.load(checkpoint_file_final, map_location=device)\n",
    "    model.load_state_dict(saved_state['model_state'])\n",
    "else:\n",
    "    try:\n",
    "        # Print pre-training sampling\n",
    "        print(charnn.generate_from_model(model, \"ACT I.\", 100, (char_to_idx,idx_to_char), T=0.5))\n",
    "\n",
    "        fit_res = trainer.fit(dl_train, dl_test, num_epochs, max_batches=None,\n",
    "                              post_epoch_fn=post_epoch_fn, early_stopping=early_stopping,\n",
    "                              checkpoints=checkpoint_file, print_every=1)\n",
    "        \n",
    "        fig, axes = plot_fit(fit_res)\n",
    "    except KeyboardInterrupt as e:\n",
    "        print('\\n *** Training interrupted by user')"
   ]
  },
  {
   "attachments": {},
   "cell_type": "markdown",
   "metadata": {},
   "source": [
    "### Generating a work of art\n",
    "<a id=part1_8></a>"
   ]
  },
  {
   "attachments": {},
   "cell_type": "markdown",
   "metadata": {},
   "source": [
    "Armed with our fully trained model, let's generate the next Hamlet! You should experiment with modifying the sampling temperature and see what happens.\n",
    "\n",
    "The text you generate should “look” like a Shakespeare play:\n",
    "old-style English words and sentence structure, directions for the actors\n",
    "(like “Exit/Enter”), sections (Act I/Scene III) etc.\n",
    "There will be no coherent plot of course, but it should at least seem like\n",
    "a Shakespearean play when not looking too closely.\n",
    "If this is not what you see, go back, debug and/or and re-train.\n",
    "\n",
    "**TODO**: Specify the generation parameters in the `part1_generation_params()` function within the `hw3/answers.py` module."
   ]
  },
  {
   "cell_type": "code",
   "execution_count": 21,
   "metadata": {},
   "outputs": [
    {
     "name": "stdout",
     "output_type": "stream",
     "text": [
      "ACT I. Scene I.\n",
      "                                                                                                                       Exit GENTLEMAN\n",
      "    What is the matter?\n",
      "  MACBETH. O my good lord, I will not do thee here.\n",
      "    Thy state and things do bear their country's friends,\n",
      "    And they themselves do see them. O my father!\n",
      "    The second harm that I have seen thee here,\n",
      "    Thou art a woman's temperance to thee.\n",
      "    The time is full of kindness. The conquerors\n",
      "    Was the first time that they do show the world\n",
      "    That thou hast sworn to show thy father's house,\n",
      "    And the great sea of thine are hardly arm'd,\n",
      "    Which thou hast stol'n a prince to make thee done.\n",
      "    Thou hast no farther than the world with thee.\n",
      "    The world is come to see thee! I have seen\n",
      "    The course of this deceit. Thou art not fair,\n",
      "    Thou art not for thee. O, then the world is stronger,\n",
      "    That thou hast stol'n a wife to kill thy heart.\n",
      "    The love of him that makes his worthy deeds,\n",
      "    Which he that hath a hand to stay a little\n",
      "    Than a great spirit of all day to do\n",
      "    That I have seen the day of nature's house,\n",
      "    That the displeasure of his body should\n",
      "    Be seen in this and the true service to him.\n",
      "    I am as fair as hell, and all the world\n",
      "    I would have said him. He is a good will,\n",
      "    And make him warm at home. He was a man,\n",
      "    And with his safety and his present discourse\n",
      "    Will not be so deliver'd.\n",
      "  MACDUFF. I do beseech you,\n",
      "    I will be friends with you.\n",
      "  CLOTEN. The world is come to see the lady of the world.\n",
      "    The second chamber will I stay a little fault,\n",
      "    And then I would have said it.\n",
      "  CLAUDIO. Then shall I have your Highness' pleasure?\n",
      "  LUCIO. I thank you, sir.\n",
      "  SEBASTIAN. I am a gentleman, and a good lady.\n",
      "  DUKE. The word is to the princes of the world.\n",
      "    The King is come again, and there and let us see\n",
      "    The precious stones of the deed. Where is the King?\n",
      "    What says he to your Grace?\n",
      "  LAFEU. They are all these things as they are come\n",
      "    To see the lady of the world.\n",
      "  CLOWN. I would I were a good man.\n",
      "    This is a strange thing that I would have said\n",
      "    My words are full of tears.\n",
      "  CLOWN. I would I were a good man, and as many as I am a gentleman.\n",
      "  SIR TOBY. Why, the heavens were the greatest wretches! I will tell you\n",
      "    where it is an end.                                                    Exeunt\n",
      "\n",
      "SCENE II.\n",
      "The park\n",
      "\n",
      "Enter CLOWN and SIR ANDREW\n",
      "\n",
      "  SEBASTIAN. What is the matter?\n",
      "  CASSIO. I do beseech you, sir, to tell you what I am.\n",
      "  IAGO. I do not like the world.\n",
      "  IAGO. I do not know it.\n",
      "  IAGO. I do not know her.\n",
      "  IAGO. I am a gentleman, I will not do it.\n",
      "  IAGO. I will not do it.\n",
      "  IAGO. I do not like the man that I have seen the time.\n",
      "  OTHELLO. I will not do it.\n",
      "  IAGO. I do not like the man that I would not have heard them\n",
      "    that the worst of the world is not for you. I will be the boy that would\n",
      "    say they are fair that I have seen it. I will be sworn of you,\n",
      "    and I will not be forsworn. I will not take the letter to you.\n",
      "  OTHELLO. I will not die the word. I would I were a god or two of\n",
      "    them.\n",
      "  IAGO. I will be satisfied.\n",
      "  DESDEMONA. I am glad to see you all.\n",
      "  DESDEMONA. I will not say you are not the time of our own profits.\n",
      "  OTHELLO. I will not do it.\n",
      "  DESDEMONA. I will not speak with you.\n",
      "  OTHELLO. I will not say so.\n",
      "  IAGO. I am a gentleman of many a time. I am sorry for you.\n",
      "  OTHELLO. I will not die the thing.\n",
      "  IAGO. I do not like the world indeed.\n",
      "  OTHELLO. I will not do it.\n",
      "  IAGO. I will not do it.\n",
      "  IAGO. I will be satisfied. Good night.                              Exit.\n",
      "  IAGO. I say the truth, I think the world is dead.\n",
      "    Sir, I will think you would have had you kings to dinner.\n",
      "    I have told you of your daughter's love, I have not seen\n",
      "    The worst of all the court. I say again,\n",
      "    I have a song of this intent of this;\n",
      "    And that I see you were not for my father.\n",
      "    I am as innocent as yours, and I am sure\n",
      "    I have a son a daughter of a man.\n",
      "    The sea is as a fairer thank my heart;\n",
      "    And therefore I will thither be admitted\n",
      "    To your displeasure. I am sure you have more cause\n",
      "    Than I did think I have to do with you.\n",
      "    I am a soldier, and that you must know.\n",
      "    I am a soldier, and that you must come\n",
      "    To see you all that I do know your love,\n",
      "    And she is my command.\n",
      "  ANTONIO. I am a gentleman, and all this while.\n",
      "    I am a soldier, and with your desires\n",
      "    That would have seen me. I am a soul of state,\n",
      "    And so am I to speak with you.\n",
      "  LAFEU. I thank you, sir.\n",
      "  SEBASTIAN. I am a soldier, and will stand aside.\n",
      "    The sun will not be long to see your lady.\n",
      "    The sea can have their honest men as soon\n",
      "    As that which was to make a stall the fire of fire,\n",
      "    And they themselves are fairly to be seen,\n",
      "    The which we have so much as one come from him.\n",
      "    The world is come to see his lady that\n",
      "    Will stir him to the court.  \n",
      "  CLOWN. I am sorry for't.\n",
      "    The world is to be false to her, and then to see me\n",
      "    To see my sister where I say it is no wit\n",
      "    To speak it in my house. The more I speak\n",
      "    That I have seen the time when I am dead.\n",
      "    The more I say, the world is come to see\n",
      "    The law of arms to see the world and took\n",
      "    The law of arms. The sun shall show itself\n",
      "    A thing importing that we have discharg'd\n",
      "    The father's crown of any countenance\n",
      "    Than a deceiving eye of honour in him.\n",
      "    What says he to your honour? Have you not\n",
      "    The worse than they are sent for?\n",
      "  MARIA. Nay, I will therefore be content.\n",
      "    The sea is all as of a man may be a woman;\n",
      "    And I will speak to thee. Thou art not fall'n\n",
      "    To see thee think on me. What shall I say?\n",
      "    Where is the lady that I see thee not?\n",
      "    What says the gods? What say you to your house?\n",
      "    The law hath straight of me. What is the matter?\n",
      "    The King is come again. This is the day\n",
      "    That she was forgot and commanded of him.\n",
      "    The world is come to seek him; and the father\n",
      "    Makes his revenge against him. This is his power\n",
      "    To see his son and heard him speak a word.\n",
      "    When he did stand and take her forth to me,\n",
      "    I would not show him from his will and see\n",
      "    The world intends to see him.\n",
      "  SEBASTIAN. What is the matter?\n",
      "    What is the matter?\n",
      "  CLOWN. I have seen the door of the lady, and I will not be so\n",
      "    suddenly.\n",
      "  SEBASTIAN. Why, he is dead; he is not so far from him.\n",
      "  DUKE. The word is to the proudest of the world.\n",
      "    The world is come to see the sun of God,\n",
      "    Who was the man in his affairs of love,\n",
      "    Whose honour is as fair as the first fault\n",
      "    That would have stood the course of this precious stone,\n",
      "    Whose hearts are firm and honourable state,\n",
      "    With his own sea of sight, which hath defended\n",
      "    The thing we have been still.\n",
      "  SEBASTIAN. What is the matter?\n",
      "  ISABELLA. As I do love you, sir, as I do know.\n",
      "    I have no worse than you should have had me.\n",
      "    I am a soldier, nor I well acquainted\n",
      "    That I may say the truth is not to speak.\n",
      "    I say the King is dead; I know you were a strange;\n",
      "    If you will play the time and see you still,\n",
      "    I will be friends with you.\n",
      "  PROSPERO. The trumpets sound.\n",
      "    I am as fair as offer to the state\n",
      "    That I will think that I have the worse faith\n",
      "    To see the world of me. I am a soldier,\n",
      "    And the gods give me leave to this my shame,\n",
      "    And send the heart to see the world to see me.\n",
      "    I say again, and I will speak to thee.\n",
      "    The sun will not be long before the deed;\n",
      "    Which were the world in earnest of the world,\n",
      "    That thou hast sworn to show thy heart of love,\n",
      "    Whose honour and thy tears are full of words,\n",
      "    Which thou hast done thee think that I am sure,\n",
      "    I would not do thee so.\n",
      "  PROSPERO. Thou art a woman.\n",
      "    Thou art a woman, therefore to be slain;\n",
      "    For thou art come to know what would thou wilt.\n",
      "    There's not a woman with thee. Call it not\n",
      "    The treasure of thy father.  \n",
      "  DUKE. The word is too.\n",
      "    The world is come to seek the lady of the world,\n",
      "    That I may say I love thee not thy song.\n",
      "    The sun shall be the streets at least the course\n",
      "    Of thy deserts, and make thee say thou art.\n",
      "    Thou shalt be worn to me, and I'll not stay\n",
      "    To see thy father's love. I do beseech you,\n",
      "    That I may say the truth is not to see\n",
      "    The world is lost and look on this desire.\n",
      "    The sea is in the field; and therefore I will fight\n",
      "    With the desire of the contrary. I am sure\n",
      "    The lady that I see it.\n",
      "  CLOWN. I will be so good a man as yours.\n",
      "    The man is dead, and what he speaks not too.\n",
      "    The worst is like a shadow of the world;\n",
      "    The world is fairly for the princely father,\n",
      "    Which he hath sent to him, and that we should\n",
      "    Show his house and his wife. He was a man\n",
      "    That hath a stomach in his part in arms\n",
      "    That he would have him seek his father's love.\n",
      "    The world is come to see his love and honour,\n",
      "    Whose honour is as strong as he doth speak\n",
      "    When he his sister was the prisoner's tooth,\n",
      "    And the displeasure of his princely face\n",
      "    Will seek a soldier to his honour there.\n",
      "    The second harm of them have made them means\n",
      "    To see the lady and to stay the little room\n",
      "    To prove a good and prince of life and heart\n",
      "    That do confine the time with the dear face.\n",
      "    The one is too far from the world and fairly\n",
      "    That have been too much more than this man in his desires\n",
      "    That they have play'd the state of man that still\n",
      "    Makes him as soon as they are.\n",
      "  MARIANA. Nay, I will see you any man.\n",
      "    The senators of the disposing of your father,\n",
      "    Whose honour is as fair as this to thee,\n",
      "    That thou hast sworn to show thy princely heart\n",
      "    That thou hast sworn to show thy father's house,\n",
      "    And then to say the truth thee to depose\n",
      "    The fairest day of triumph. What think you\n",
      "    That the profession of the world is proved?\n",
      "    The state of man is well; and then to see\n",
      "    The law of arms thou seest we are not strange.\n",
      "    The truth is not to seek the la\n"
     ]
    }
   ],
   "source": [
    "from hw3.answers import part1_generation_params\n",
    "\n",
    "start_seq, temperature = part1_generation_params()\n",
    "\n",
    "generated_sequence = charnn.generate_from_model(\n",
    "    model, start_seq, 10000, (char_to_idx,idx_to_char), T=temperature\n",
    ")\n",
    "\n",
    "print(generated_sequence)"
   ]
  },
  {
   "attachments": {},
   "cell_type": "markdown",
   "metadata": {},
   "source": [
    "## Questions\n",
    "<a id=part1_9></a>"
   ]
  },
  {
   "attachments": {},
   "cell_type": "markdown",
   "metadata": {},
   "source": [
    "**TODO** Answer the following questions. Write your answers in the appropriate variables in the module `hw3/answers.py`."
   ]
  },
  {
   "cell_type": "code",
   "execution_count": 22,
   "metadata": {},
   "outputs": [],
   "source": [
    "from cs236781.answers import display_answer\n",
    "import hw3.answers"
   ]
  },
  {
   "attachments": {},
   "cell_type": "markdown",
   "metadata": {},
   "source": [
    "### Question 1\n",
    "Why do we split the corpus into sequences instead of training on the whole text?"
   ]
  },
  {
   "cell_type": "code",
   "execution_count": 23,
   "metadata": {},
   "outputs": [
    {
     "data": {
      "text/markdown": [
       "\n",
       "**Your answer:**\n",
       "\n",
       "For the same reason we split every dataset to batches.\n",
       "Training on the whole text will have much higher memory cost, and for large corpus might even be impossible.\n",
       "Also, by training on sequences (they way we ordered them), makes the model to capture the continuity of the text.\n",
       "\n"
      ],
      "text/plain": [
       "<IPython.core.display.Markdown object>"
      ]
     },
     "metadata": {},
     "output_type": "display_data"
    }
   ],
   "source": [
    "display_answer(hw3.answers.part1_q1)"
   ]
  },
  {
   "attachments": {},
   "cell_type": "markdown",
   "metadata": {},
   "source": [
    "### Question 2\n",
    "How is it possible that the generated text clearly shows memory longer than the sequence length?"
   ]
  },
  {
   "cell_type": "code",
   "execution_count": 24,
   "metadata": {},
   "outputs": [
    {
     "data": {
      "text/markdown": [
       "\n",
       "**Your answer:**\n",
       "\n",
       "We initially ordered the data such that following batches will be matched by each sentence (sentence $i$ in batch $j$ will be followed by sentence $i+1$ in batch $j$)\n",
       "So, during training, the model's \"memory\" doesn't change between batches, and keeps working on the following sentence.\n",
       "\n"
      ],
      "text/plain": [
       "<IPython.core.display.Markdown object>"
      ]
     },
     "metadata": {},
     "output_type": "display_data"
    }
   ],
   "source": [
    "display_answer(hw3.answers.part1_q2)"
   ]
  },
  {
   "attachments": {},
   "cell_type": "markdown",
   "metadata": {},
   "source": [
    "### Question 3\n",
    "Why are we not shuffling the order of batches when training?"
   ]
  },
  {
   "cell_type": "code",
   "execution_count": 25,
   "metadata": {},
   "outputs": [
    {
     "data": {
      "text/markdown": [
       "\n",
       "**Your answer:**\n",
       "\n",
       "For the same reason we mentioned in the previous answer.\n",
       "The model needs to be fed with continous sentences in each batch entry, thus we can't shuffle them.\n",
       "\n"
      ],
      "text/plain": [
       "<IPython.core.display.Markdown object>"
      ]
     },
     "metadata": {},
     "output_type": "display_data"
    }
   ],
   "source": [
    "display_answer(hw3.answers.part1_q3)"
   ]
  },
  {
   "attachments": {},
   "cell_type": "markdown",
   "metadata": {},
   "source": [
    "### Question 4\n",
    "1. Why do we lower the temperature for sampling (compared to the default of $1.0$)?\n",
    "2. What happens when the temperature is very high and why?\n",
    "3. What happens when the temperature is very low and why?"
   ]
  },
  {
   "cell_type": "code",
   "execution_count": 26,
   "metadata": {},
   "outputs": [
    {
     "data": {
      "text/markdown": [
       "\n",
       "**Your answer:**\n",
       "\n",
       "1. A low $T$ will result less uniform distributions -> tends towards argmax behaviour.\n",
       "Thus the model will be more confident about the next characters while sampling, which means that the more probable outputs will be more likely to be sampled.\n",
       "\n",
       "2. A high $T$ will result a more uniform distribution, which means that when sampling, the next characters will have a very similar probability to be picked.\n",
       "Thus, there is a higher chance that we will produce nonesence sentences.\n",
       "\n",
       "3. As we said before, a low $T$ will result less uniform distributions.\n",
       "Thus, the sampling will be very close to argmax sampling, which means the outputs will be almost identical to each other (and to the most probable, single sentence that can be produced).\n",
       "\n"
      ],
      "text/plain": [
       "<IPython.core.display.Markdown object>"
      ]
     },
     "metadata": {},
     "output_type": "display_data"
    }
   ],
   "source": [
    "display_answer(hw3.answers.part1_q4)"
   ]
  }
 ],
 "metadata": {
  "kernelspec": {
   "display_name": "Python 3 (ipykernel)",
   "language": "python",
   "name": "python3"
  },
  "language_info": {
   "codemirror_mode": {
    "name": "ipython",
    "version": 3
   },
   "file_extension": ".py",
   "mimetype": "text/x-python",
   "name": "python",
   "nbconvert_exporter": "python",
   "pygments_lexer": "ipython3",
   "version": "3.8.12"
  }
 },
 "nbformat": 4,
 "nbformat_minor": 4
}
